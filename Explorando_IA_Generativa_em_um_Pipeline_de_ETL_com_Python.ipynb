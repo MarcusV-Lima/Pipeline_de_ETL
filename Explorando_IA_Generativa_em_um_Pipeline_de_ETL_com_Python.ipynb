{
  "nbformat": 4,
  "nbformat_minor": 0,
  "metadata": {
    "colab": {
      "provenance": [],
      "authorship_tag": "ABX9TyPd9oQHgTlJq+AxB4YV6gDn",
      "include_colab_link": true
    },
    "kernelspec": {
      "name": "python3",
      "display_name": "Python 3"
    },
    "language_info": {
      "name": "python"
    }
  },
  "cells": [
    {
      "cell_type": "markdown",
      "metadata": {
        "id": "view-in-github",
        "colab_type": "text"
      },
      "source": [
        "<a href=\"https://colab.research.google.com/github/MarcusV-Lima/Pipeline_de_ETL/blob/main/Explorando_IA_Generativa_em_um_Pipeline_de_ETL_com_Python.ipynb\" target=\"_parent\"><img src=\"https://colab.research.google.com/assets/colab-badge.svg\" alt=\"Open In Colab\"/></a>"
      ]
    },
    {
      "cell_type": "code",
      "execution_count": 1,
      "metadata": {
        "id": "BRtpAgjnlIFC"
      },
      "outputs": [],
      "source": [
        "import pandas as pd\n",
        "import json"
      ]
    },
    {
      "cell_type": "markdown",
      "source": [
        "## **E**xtract\n",
        "\n",
        "Carregando o arquivo CSV"
      ],
      "metadata": {
        "id": "5qFJL4Xtug0s"
      }
    },
    {
      "cell_type": "code",
      "source": [
        "df = pd.read_csv(r'Fortnite Statistics.csv', encoding='utf-8')"
      ],
      "metadata": {
        "id": "-RsoGaullOnX"
      },
      "execution_count": 2,
      "outputs": []
    },
    {
      "cell_type": "markdown",
      "source": [
        "## **T**ransform\n",
        "\n",
        "Criando uma nova coluna de KDA, onde soma a quantidade de kills e assistencias que foram dadas durante a partida, e divide pela quantidade de mortes para se obter o resultado"
      ],
      "metadata": {
        "id": "rrQN8v0Su0wb"
      }
    },
    {
      "cell_type": "code",
      "source": [
        "df['KDA'] = (df['Eliminations'] + df['Assists'])"
      ],
      "metadata": {
        "id": "SDzdME3_rA0d"
      },
      "execution_count": 23,
      "outputs": []
    },
    {
      "cell_type": "code",
      "source": [
        "print(df.head())"
      ],
      "metadata": {
        "id": "PgpBlIKhrXR6"
      },
      "execution_count": null,
      "outputs": []
    },
    {
      "cell_type": "markdown",
      "source": [
        "## **L**oad\n",
        "\n",
        "Salvando o novo arquivo CSV"
      ],
      "metadata": {
        "id": "a8d_2FDxvTX-"
      }
    },
    {
      "cell_type": "code",
      "source": [
        "nome_arquivo_csv = \"Fortnite_Statistics_atualizado.csv\"\n",
        "df.to_csv(nome_arquivo_csv, index=False)"
      ],
      "metadata": {
        "id": "uE-8Ukmvt9w7"
      },
      "execution_count": 28,
      "outputs": []
    }
  ]
}